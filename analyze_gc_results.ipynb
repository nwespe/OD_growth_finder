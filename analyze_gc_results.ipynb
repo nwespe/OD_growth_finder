{
 "cells": [
  {
   "cell_type": "code",
   "execution_count": 1,
   "metadata": {
    "collapsed": false
   },
   "outputs": [
    {
     "name": "stdout",
     "output_type": "stream",
     "text": [
      "Populating the interactive namespace from numpy and matplotlib\n"
     ]
    }
   ],
   "source": [
    "%pylab inline"
   ]
  },
  {
   "cell_type": "code",
   "execution_count": 2,
   "metadata": {
    "collapsed": false
   },
   "outputs": [],
   "source": [
    "%load_ext autoreload"
   ]
  },
  {
   "cell_type": "code",
   "execution_count": 3,
   "metadata": {
    "collapsed": true
   },
   "outputs": [],
   "source": [
    "%autoreload 2"
   ]
  },
  {
   "cell_type": "code",
   "execution_count": 4,
   "metadata": {
    "collapsed": true
   },
   "outputs": [],
   "source": [
    "import pandas as pd\n",
    "import seaborn as sns\n",
    "import os"
   ]
  },
  {
   "cell_type": "code",
   "execution_count": null,
   "metadata": {
    "collapsed": false
   },
   "outputs": [],
   "source": [
    "# once all_results file is made:\n",
    "gc = pd.read_excel('/Users/nwespe/Desktop/all_effgr_results.xlsx')"
   ]
  },
  {
   "cell_type": "code",
   "execution_count": 7,
   "metadata": {
    "collapsed": false
   },
   "outputs": [
    {
     "name": "stdout",
     "output_type": "stream",
     "text": [
      "20160719 ypd nacl data_output.xlsx\n",
      "20160720 ypd nacl data_output.xlsx\n",
      "20160721 ypd nacl data_output1.xlsx\n",
      "20160727 ypd nacl data_output.xlsx\n",
      "20160728 ypd nacl data_output.xlsx\n",
      "20160802 ypd nacl data_output.xlsx\n",
      "20160913 ypd nacl data_output.xlsx\n",
      "20160922 ypd nacl data_output.xlsx\n",
      "20161005 ypd nacl data_output.xlsx\n"
     ]
    }
   ],
   "source": [
    "# to compile multiple data output files into one results file\n",
    "all_results = []\n",
    "file_list = os.listdir('/Users/nwespe/Dropbox/Research - Data/PG GC Experiments/EffGR 2-6hrs/')\n",
    "file_list = [f for f in file_list if f[0] != '~']\n",
    "for f in file_list:\n",
    "    print f\n",
    "    f = os.path.join('/Users/nwespe/Dropbox/Research - Data/PG GC Experiments/EffGR 2-6hrs/', f) \n",
    "    data = pd.read_excel(f, converters ={'strain': lambda x: str(x), 'name': lambda x: str(x), 'expt_date': lambda x: x.strftime('%Y-%m-%d')})\n",
    "    data['sample'] = data['expt_date'] + ' ' + data['well']\n",
    "    results = data[['expt_date', 'sample', 'name', 'media', 'growth rate 120-360', \n",
    "                    'r-squared 120-360', 'doubling time 120-360', 'saturation time', \n",
    "                    'strain', 'clone']]\n",
    "    all_results.append(results)\n",
    "gc = pd.concat(all_results)\n",
    "gc.to_excel('/Users/nwespe/Desktop/all_effgr_2-6hr_results_1013.xlsx')"
   ]
  },
  {
   "cell_type": "code",
   "execution_count": null,
   "metadata": {
    "collapsed": true
   },
   "outputs": [],
   "source": [
    "# to format new data output file into results file\n",
    "date = '20160908'\n",
    "f = '/Users/nwespe/Dropbox/Research - Data/PG GC Experiments/GC Analysis/'+date+'_effgr/'+date+' ypd nacl data_output.xlsx'\n",
    "data = pd.read_excel(f, converters ={'strain': lambda x: str(x), 'name': lambda x: str(x), 'expt_date': lambda x: x.strftime('%Y-%m-%d')})\n",
    "data['sample'] = data['expt_date'] + ' ' + data['well']\n",
    "results = data[['expt_date', 'sample', 'name', 'media', 'growth rate 0-360', \n",
    "                'r-squared 0-360', 'doubling time 0-360', 'saturation time', 'strain', 'clone']]\n",
    "results.to_excel('/Users/nwespe/Desktop/new_gc_results.xlsx')"
   ]
  },
  {
   "cell_type": "code",
   "execution_count": null,
   "metadata": {
    "collapsed": false
   },
   "outputs": [],
   "source": [
    "gc[:4]"
   ]
  },
  {
   "cell_type": "code",
   "execution_count": 59,
   "metadata": {
    "collapsed": false
   },
   "outputs": [],
   "source": [
    "gene_dict = {'003': 'wild-type', '006A': 'mec1- sml1-', '028A': 'mut anc A', '028B': 'mut anc B', '028C': 'mut anc C',\n",
    "             '207': 'imp2- A', '207B': 'imp2- B', '129': 'trk1-', '130': 'm1s1 trk1-',\n",
    "             '087': 'hal5-', '088': 'm1s1 hal5-', '012': 'hog1-', '260': 'm1s1 hog1-',\n",
    "             '033B': 'evo 1', '188': 'evo 1 HAL5-wt', '213': 'm1s1 hal5-G515W', '214': 'hal5-G515W', '118A': 'm1s1 hal5-G515W A',\n",
    "             '034A': 'evo 2', '215': 'evo 2 HXT1-wt', '169': 'm1s1 HXT1-S333Y', '178': 'HXT1-S333Y',\n",
    "             '035C': 'evo 3', '256A': 'evo 3 HXT7-wt', '258A': 'm1s1 HXT7-G84D', '257': 'HXT7-G84D', \n",
    "             '110-c4': 'evo 4', '248': 'evo 4 HOG1-wt', '247': 'm1s1 hog1-A166V', '249': 'hog1-A166V', \n",
    "             '111c3': 'evo 5', '255': 'evo 5 HXT1-wt',\n",
    "             '112E': 'evo 6', '217': 'evo 6 HOG1-wt', '212': 'm1s1 hog1-G175D', '224': 'hog1-G175D', \n",
    "             '113A': 'evo 7', '229': 'evo 7 HXT3-wt', '228': 'm1s1 HXT3-A438V', '227': 'HXT3-A438V',\n",
    "             '114': 'evo 9', '216': 'evo 9 HXT1-wt', '170': 'm1s1 HXT1-T362A', '202': 'HXT1-T362A',\n",
    "             '115': 'evo 10', '209': 'evo 10 IMP2-wt', '191': 'm1s1 IMP2-L309R', '190': 'IMP2-L309R',\n",
    "             '116': 'evo 11', '210': 'evo 11 IMP2-wt', '219': 'm1s1 IMP2-E124*', '226': 'IMP2-E124*',\n",
    "             '127': 'far1-', '231':' f1 hal5-G515W', '233': 'f1 hog1-G175D', '235': 'f1 HXT1-S333Y',\n",
    "             '237': 'f1 HXT1-T362A', '239': 'f1 HXT3-A438V', '241': 'f1 IMP2-L309R', '243': 'f1 IMP2-E124*',\n",
    "             '128': 'sic1-', '230':' s1 hal5-G515W', '232': 's1 hog1-G175D', '234': 's1 HXT1-S333Y',\n",
    "             '236': 's1 HXT1-T362A', '238': 's1 HXT3-A438V', '240': 's1 IMP2-L309R', '242': 's1 IMP2-E124*'}"
   ]
  },
  {
   "cell_type": "code",
   "execution_count": 9,
   "metadata": {
    "collapsed": false
   },
   "outputs": [
    {
     "data": {
      "text/plain": [
       "array(['003', '006A', '115', '209', '116', '210', '190', '226', '191',\n",
       "       '219', '207', '208', '034A', '215', '111c3', '255', '178', '169',\n",
       "       'blank', '114', '216', '202', '170', '110-c4', '248', '112E', '217',\n",
       "       '249', '224', '247', '212', '012', '260', '113A', '229', '227',\n",
       "       '228', nan, '128', '232', '234', '238', '240', '242', '033B', '213',\n",
       "       '035C', '256A', '258A', '188', '214', '087', '088', '257', '127',\n",
       "       '231', '233', '235', '237', '239', '241', '243', '230', '236',\n",
       "       '207B', '129', '130', '028A', '028B', '028C', '118A'], dtype=object)"
      ]
     },
     "execution_count": 9,
     "metadata": {},
     "output_type": "execute_result"
    }
   ],
   "source": [
    "pd.unique(gc.name)"
   ]
  },
  {
   "cell_type": "code",
   "execution_count": 10,
   "metadata": {
    "collapsed": false
   },
   "outputs": [],
   "source": [
    "sns.set_context('talk')\n",
    "sns.set_style('whitegrid')\n",
    "sns.set_palette('Paired')"
   ]
  },
  {
   "cell_type": "code",
   "execution_count": 62,
   "metadata": {
    "collapsed": false
   },
   "outputs": [],
   "source": [
    "strain_list = ['033B', '188', '006A', '088', '213', '118A', '003', '087', '214', '129', '130']\n",
    "#['113A', '229', '006A', '228', '003', '227']\n",
    "#['034A', '215', '111c3', '255', '006A', '169', '003', '178']\n",
    "#['115', '209', '116', '210', '006A', '191', '219', '003', '190', '226']\n",
    "#['006A', '113A', '114', '115', '116']\n",
    "#['006A', '028A', '028B', '028C', '033B', '034A', '035C', '110-c4', '111c3', '112E']\n",
    "strain_labels = [gene_dict[s] for s in strain_list]\n",
    "group = 'Growth Rates of HAL5 Strains'"
   ]
  },
  {
   "cell_type": "code",
   "execution_count": 63,
   "metadata": {
    "collapsed": false
   },
   "outputs": [
    {
     "data": {
      "image/png": "[encoded data removed]",
      "text/plain": [
       "<matplotlib.figure.Figure at 0x124376050>"
      ]
     },
     "metadata": {},
     "output_type": "display_data"
    }
   ],
   "source": [
    "p = 'growth rate'\n",
    "g = sns.boxplot(x='name', y= p +' 120-360', hue='media', data=gc, order=strain_list, \n",
    "                hue_order=['YPD', '0.5 M NaCl'], width=1) #\n",
    "g.set_xticklabels(strain_labels, rotation=45)\n",
    "plt.legend(loc='center left', bbox_to_anchor=(1, 0.5))\n",
    "plt.title('Growth 2-6 hrs post-NaCl addition')\n",
    "if p == 'growth rate':\n",
    "    g.set(ylim=(0, 0.01), xlabel='Strain', ylabel='Growth rate (1/min)')\n",
    "    #plt.savefig('/Users/nwespe/Desktop/HAL5_2-6hrs_gr_boxplot.svg', format='svg', bbox_inches='tight')\n",
    "elif p == 'doubling time':\n",
    "    g.set(ylim=(0, 500), xlabel='Strain', ylabel='Doubling time (min)')  # 0,500\n",
    "    #plt.savefig('/Users/nwespe/Desktop/HAL5_2-6hrs_dt_boxplot.svg', format='svg', bbox_inches='tight')\n",
    "# legend=False, col_wrap=2"
   ]
  },
  {
   "cell_type": "code",
   "execution_count": null,
   "metadata": {
    "collapsed": false
   },
   "outputs": [],
   "source": [
    "g = sns.swarmplot(x='name', y='growth rate 0-360', hue='expt_date', data=gc, order=strain_list)\n",
    "                #hue_order=['YPD', '0.5 M NaCl'])\n",
    "g.set_xticklabels(strain_labels) #, rotation=45)\n",
    "g.set_ylim(0, 0.01)\n",
    "plt.legend(loc='center left', bbox_to_anchor=(1, 0.5))\n",
    "plt.title(group)\n",
    "#plt.savefig('/Users/nwespe/Desktop/'+group+' swarmplot.svg', format='svg', bbox_inches='tight')\n",
    "#(g.set(ylim=(-0.5,1.5)))\n",
    "# legend=False, col_wrap=2"
   ]
  },
  {
   "cell_type": "code",
   "execution_count": null,
   "metadata": {
    "collapsed": true
   },
   "outputs": [],
   "source": [
    ""
   ]
  },
  {
   "cell_type": "code",
   "execution_count": null,
   "metadata": {
    "collapsed": false
   },
   "outputs": [],
   "source": [
    "ax = sns.barplot(y='strain', x='growth rate 0-360', hue='media', data=gc, order=strain_list,\n",
    "               hue_order=['YPD', '0.5 M NaCl'])\n",
    "ax.set_yticklabels(strain_labels) #, rotation=45)\n",
    "plt.legend(loc='center left', bbox_to_anchor=(1, 0.5))\n",
    "plt.title(group)\n",
    "#plt.savefig('/Users/nwespe/Desktop/'+group+' barplot.svg', format='svg', bbox_inches='tight')"
   ]
  },
  {
   "cell_type": "code",
   "execution_count": null,
   "metadata": {
    "collapsed": false
   },
   "outputs": [],
   "source": [
    "ax = sns.FacetGrid(gc, col='media', hue='expt_date', size=4, col_order=['YPD', '0.5 M NaCl'])\n",
    "(ax.map(sns.swarmplot, 'strain', 'growth rate 0-360', order=strain_list) #, color=u'#2079b4')\n",
    "   .despine(left=True)\n",
    "   .add_legend())\n",
    "ax.set_xticklabels(strain_labels, rotation=45)\n",
    "ax.set(ylim=(0, 0.010))\n",
    "#plt.legend(loc='center left', bbox_to_anchor=(1, 0.5))\n",
    "#plt.title(group)\n",
    "plt.savefig('/Users/nwespe/Desktop/'+group+' sep swarmplot.svg', format='svg', bbox_inches='tight')"
   ]
  },
  {
   "cell_type": "code",
   "execution_count": null,
   "metadata": {
    "collapsed": false
   },
   "outputs": [],
   "source": [
    "strain_labels = ['wild-type', 'far1d', 'HAL5-G515W', 'far1d HAL5-G515W', 'HOG1-G175D', 'far1d HOG1-G175D', \n",
    "                 'HXT1-S333Y', 'far1d HXT1-S333Y', 'HXT1-T362A', 'far1d HXT1-T362A', 'HXT3-A438V', \n",
    "                 'far1d HXT3-A438V', 'IMP2\\'-E124*', 'far1d IMP2\\'-E124*', 'IMP2\\'-L309R', 'far1d IMP2\\'-L309R']\n",
    "sns.set_context('poster', font_scale=1.3)\n",
    "g = sns.boxplot(y='strain', x='growth rate 0-360', hue='media', data=gc, order=strain_list, \n",
    "                hue_order=['YPD', '0.5 M NaCl'])\n",
    "g.set_yticklabels(strain_labels) #, rotation=45)\n",
    "plt.legend(loc='center left', bbox_to_anchor=(1, 0.5))\n",
    "plt.title(group)\n",
    "#plt.savefig('/Users/nwespe/Desktop/'+group+' boxplot.svg', format='svg', bbox_inches='tight')\n",
    "#(g.set(ylim=(-0.5,1.5)))\n",
    "# legend=False, col_wrap=2"
   ]
  },
  {
   "cell_type": "code",
   "execution_count": null,
   "metadata": {
    "collapsed": false
   },
   "outputs": [],
   "source": [
    "sns.color_palette('Paired').as_hex()"
   ]
  },
  {
   "cell_type": "code",
   "execution_count": null,
   "metadata": {
    "collapsed": true
   },
   "outputs": [],
   "source": [
    ""
   ]
  },
  {
   "cell_type": "code",
   "execution_count": null,
   "metadata": {
    "collapsed": true
   },
   "outputs": [],
   "source": [
    "date = '20160114'"
   ]
  },
  {
   "cell_type": "code",
   "execution_count": null,
   "metadata": {
    "collapsed": false
   },
   "outputs": [],
   "source": [
    "data = pd.read_excel('/Users/nwespe/Dropbox/Research - Data/Growth Curves/GC_data_analysis/'+date+'/'+date+'_ypd_nacl_data_output.xlsx', converters ={'strain': lambda x: str(x), 'name': lambda x: str(x)})"
   ]
  },
  {
   "cell_type": "code",
   "execution_count": null,
   "metadata": {
    "collapsed": false
   },
   "outputs": [],
   "source": [
    "genotypes = pd.read_excel('/Users/nwespe/Dropbox/Research - Data/PG GC Experiments/strain-genotype.xlsx', converters ={'strain': lambda x: str(x), 'background': lambda x: str(x)})"
   ]
  },
  {
   "cell_type": "code",
   "execution_count": null,
   "metadata": {
    "collapsed": false
   },
   "outputs": [],
   "source": [
    "pd.unique(data['strain'])"
   ]
  },
  {
   "cell_type": "code",
   "execution_count": null,
   "metadata": {
    "collapsed": false
   },
   "outputs": [],
   "source": [
    ""
   ]
  },
  {
   "cell_type": "code",
   "execution_count": null,
   "metadata": {
    "collapsed": false
   },
   "outputs": [],
   "source": [
    "data[3:6]"
   ]
  },
  {
   "cell_type": "code",
   "execution_count": null,
   "metadata": {
    "collapsed": false
   },
   "outputs": [],
   "source": [
    "data = data[data.strain != 'blank']"
   ]
  },
  {
   "cell_type": "code",
   "execution_count": null,
   "metadata": {
    "collapsed": false
   },
   "outputs": [],
   "source": [
    "genotypes[:3]"
   ]
  },
  {
   "cell_type": "code",
   "execution_count": null,
   "metadata": {
    "collapsed": true
   },
   "outputs": [],
   "source": [
    "results = pd.merge(data, genotypes, how='left', on='strain', sort=False, suffixes=['_expt', '_ref'])"
   ]
  },
  {
   "cell_type": "code",
   "execution_count": null,
   "metadata": {
    "collapsed": false
   },
   "outputs": [],
   "source": [
    "results.name[results.strain == '115']"
   ]
  },
  {
   "cell_type": "code",
   "execution_count": null,
   "metadata": {
    "collapsed": false
   },
   "outputs": [],
   "source": [
    "results[pd.isnull(results.background)]"
   ]
  },
  {
   "cell_type": "code",
   "execution_count": null,
   "metadata": {
    "collapsed": false
   },
   "outputs": [],
   "source": [
    "order = sorted(pd.unique(results.strain))\n",
    "order# = ['006A', '034A', '215A', '169', '114', '216', '170A', '170B', '112E', '212A', '212B']"
   ]
  },
  {
   "cell_type": "code",
   "execution_count": null,
   "metadata": {
    "collapsed": true
   },
   "outputs": [],
   "source": [
    "sns.set_context('poster', font_scale=1.25)"
   ]
  },
  {
   "cell_type": "code",
   "execution_count": null,
   "metadata": {
    "collapsed": false
   },
   "outputs": [],
   "source": [
    "my_palette = sns.xkcd_palette(['blue', 'orange', 'apple green'])\n",
    "sns.palplot(my_palette)"
   ]
  },
  {
   "cell_type": "code",
   "execution_count": null,
   "metadata": {
    "collapsed": false
   },
   "outputs": [],
   "source": [
    "sns.set_style('whitegrid')\n",
    "sns.set_palette(my_palette)"
   ]
  },
  {
   "cell_type": "code",
   "execution_count": null,
   "metadata": {
    "collapsed": false
   },
   "outputs": [],
   "source": [
    "ax = sns.barplot(x='strain', y='max OD', hue='media', data=results, order=order,\n",
    "               hue_order=['YPD', '0.5 M NaCl'])\n",
    "ax.set_xticklabels(order, rotation=45)\n",
    "plt.legend(loc='center left', bbox_to_anchor=(1, 0.5))\n",
    "plt.title(date+' Maximum OD')\n",
    "#plt.savefig('/Users/nwespe/Desktop/'+date+'_gr_barplot.png')"
   ]
  },
  {
   "cell_type": "code",
   "execution_count": null,
   "metadata": {
    "collapsed": false
   },
   "outputs": [],
   "source": [
    "data_set = results1228"
   ]
  },
  {
   "cell_type": "code",
   "execution_count": null,
   "metadata": {
    "collapsed": false
   },
   "outputs": [],
   "source": [
    "genes = pd.unique(data_set.gene)\n",
    "genes"
   ]
  },
  {
   "cell_type": "code",
   "execution_count": null,
   "metadata": {
    "collapsed": true
   },
   "outputs": [],
   "source": [
    "data_set.allele = data_set.allele.fillna('')\n",
    "data_set.other = data_set.other.fillna('')"
   ]
  },
  {
   "cell_type": "code",
   "execution_count": null,
   "metadata": {
    "collapsed": false
   },
   "outputs": [],
   "source": [
    "data_set.loc[data_set.strain=='3', 'allele'] = 'wt'\n",
    "data_set.allele[data_set.strain=='3']"
   ]
  },
  {
   "cell_type": "code",
   "execution_count": null,
   "metadata": {
    "collapsed": false
   },
   "outputs": [],
   "source": [
    "name_labels = {}\n",
    "for name in order:\n",
    "    print name\n",
    "    alleledf = data_set[data_set.strain==name].allele\n",
    "    allele = alleledf.iat[0]\n",
    "    otherdf = data_set[data_set.strain==name].other\n",
    "    other = otherdf.iat[0]\n",
    "    if other == '': \n",
    "        name_labels[name] = allele\n",
    "    elif allele == '':\n",
    "        name_labels[name] = other\n",
    "    else: \n",
    "        name_labels[name] =  str(other) + '\\n' + str(allele)"
   ]
  },
  {
   "cell_type": "code",
   "execution_count": null,
   "metadata": {
    "collapsed": true
   },
   "outputs": [],
   "source": [
    "new_order = order #['3', ]"
   ]
  },
  {
   "cell_type": "code",
   "execution_count": null,
   "metadata": {
    "collapsed": false
   },
   "outputs": [],
   "source": [
    "names = new_order  #sort([x for x in name_labels.iterkeys()])\n",
    "x_labels = [s +':\\n'+ name_labels[s] for s in names]\n",
    "x_labels"
   ]
  },
  {
   "cell_type": "code",
   "execution_count": null,
   "metadata": {
    "collapsed": false
   },
   "outputs": [],
   "source": [
    "ax = sns.barplot(x='strain', y='growth rate 0-360', hue='media', data=data_set, order=new_order,\n",
    "               hue_order=['YPD', '0.5 M NaCl'])\n",
    "ax.set_xticklabels(list(x_labels), rotation=45)\n",
    "plt.xlabel('')\n",
    "plt.legend(loc='upper right', bbox_to_anchor=(1.25, 1))\n",
    "plt.title('Effective growth rates in expt 12-28-15')\n",
    "plt.savefig('/Users/nwespe/Desktop/20151228_eff_gr_barplot.png', bbox_inches='tight')"
   ]
  },
  {
   "cell_type": "code",
   "execution_count": null,
   "metadata": {
    "collapsed": true
   },
   "outputs": [],
   "source": [
    "gene = 'HAL5'"
   ]
  },
  {
   "cell_type": "code",
   "execution_count": null,
   "metadata": {
    "collapsed": true
   },
   "outputs": [],
   "source": [
    "gene_subset = data_set[data_set.gene == gene]"
   ]
  },
  {
   "cell_type": "code",
   "execution_count": null,
   "metadata": {
    "collapsed": true
   },
   "outputs": [],
   "source": [
    "gene_expts = pd.unique(gene_subset['expt_date'])"
   ]
  },
  {
   "cell_type": "code",
   "execution_count": null,
   "metadata": {
    "collapsed": false
   },
   "outputs": [],
   "source": [
    "gene_expt_rows = data_set[data_set['expt_date'].isin(gene_expts)]"
   ]
  },
  {
   "cell_type": "code",
   "execution_count": null,
   "metadata": {
    "collapsed": true
   },
   "outputs": [],
   "source": [
    "gene_ctrls = gene_expt_rows[gene_expt_rows['strain'].isin(['003','006'])]"
   ]
  },
  {
   "cell_type": "code",
   "execution_count": null,
   "metadata": {
    "collapsed": false
   },
   "outputs": [],
   "source": [
    "gene_evolved = gene_expt_rows[gene_expt_rows['strain'].isin(['033'])]  #,'111','114'])]"
   ]
  },
  {
   "cell_type": "code",
   "execution_count": null,
   "metadata": {
    "collapsed": false
   },
   "outputs": [],
   "source": [
    "gene_ctrls[:3]"
   ]
  },
  {
   "cell_type": "code",
   "execution_count": null,
   "metadata": {
    "collapsed": true
   },
   "outputs": [],
   "source": [
    "gene_data = pd.concat((gene_subset, gene_ctrls, gene_evolved))"
   ]
  },
  {
   "cell_type": "code",
   "execution_count": null,
   "metadata": {
    "collapsed": true
   },
   "outputs": [],
   "source": [
    "grouped_data = gene_data['growth rate'].groupby([gene_data.name, gene_data.media])\n",
    "data_calc = grouped_data.agg(['count', np.mean, np.std])"
   ]
  },
  {
   "cell_type": "code",
   "execution_count": null,
   "metadata": {
    "collapsed": false
   },
   "outputs": [],
   "source": [
    "data_calc[:3]"
   ]
  },
  {
   "cell_type": "code",
   "execution_count": null,
   "metadata": {
    "collapsed": false
   },
   "outputs": [],
   "source": [
    "order = sorted(pd.unique(gene_data.name))\n",
    "order"
   ]
  },
  {
   "cell_type": "code",
   "execution_count": null,
   "metadata": {
    "collapsed": true
   },
   "outputs": [],
   "source": [
    "gene_data.allele = gene_data.allele.fillna('')\n",
    "gene_data.other = gene_data.other.fillna('')"
   ]
  },
  {
   "cell_type": "code",
   "execution_count": null,
   "metadata": {
    "collapsed": false
   },
   "outputs": [],
   "source": [
    "name_labels = {}\n",
    "for name in order:\n",
    "    alleledf = gene_data[gene_data.name==name].allele\n",
    "    allele = alleledf.iat[0]\n",
    "    otherdf = gene_data[gene_data.name==name].other\n",
    "    other = otherdf.iat[0]\n",
    "    if other == '': \n",
    "        name_labels[name] = allele\n",
    "    elif allele == '':\n",
    "        name_labels[name] = other\n",
    "    else: \n",
    "        name_labels[name] =  other + '\\n' + allele"
   ]
  },
  {
   "cell_type": "code",
   "execution_count": null,
   "metadata": {
    "collapsed": false
   },
   "outputs": [],
   "source": [
    "new_order = ['033B', '097', '188', '006A', '088', '118A', '118B', '213', '003', '087', '214A', '214B']"
   ]
  },
  {
   "cell_type": "code",
   "execution_count": null,
   "metadata": {
    "collapsed": false
   },
   "outputs": [],
   "source": [
    "names = new_order  #sort([x for x in name_labels.iterkeys()])\n",
    "x_labels = [s +':\\n'+ name_labels[s] for s in names]\n",
    "x_labels"
   ]
  },
  {
   "cell_type": "code",
   "execution_count": null,
   "metadata": {
    "collapsed": true
   },
   "outputs": [],
   "source": [
    "sns.set_context('poster', font_scale=0.8)\n",
    "sns.set_style('whitegrid')"
   ]
  },
  {
   "cell_type": "code",
   "execution_count": null,
   "metadata": {
    "collapsed": false
   },
   "outputs": [],
   "source": [
    "sns.palplot(sns.xkcd_palette(['deep blue', 'orange', 'apple green']))"
   ]
  },
  {
   "cell_type": "code",
   "execution_count": null,
   "metadata": {
    "collapsed": true
   },
   "outputs": [],
   "source": [
    "my_palette = sns.xkcd_palette(['deep blue', 'orange', 'apple green'])"
   ]
  },
  {
   "cell_type": "code",
   "execution_count": null,
   "metadata": {
    "collapsed": true
   },
   "outputs": [],
   "source": [
    "sns.set_palette(my_palette)"
   ]
  },
  {
   "cell_type": "code",
   "execution_count": null,
   "metadata": {
    "collapsed": true
   },
   "outputs": [],
   "source": [
    "metric = 'growth rate'"
   ]
  },
  {
   "cell_type": "code",
   "execution_count": null,
   "metadata": {
    "collapsed": false
   },
   "outputs": [],
   "source": [
    "ax = sns.barplot(x='name', y=metric, hue='media', data=gene_data, order=new_order,\n",
    "               hue_order=['YPD', '0.5 M NaCl'])\n",
    "ax.set_xticklabels(list(x_labels), rotation=45)\n",
    "plt.xlabel('')\n",
    "plt.legend(loc='upper right', bbox_to_anchor=(1.25, 1))\n",
    "plt.title(gene+': '+metric+' in expt 03-11-16')\n",
    "plt.savefig('/Users/nmcollin/Desktop/'+gene+'_20160311_gr_barplot.png', bbox_inches='tight')"
   ]
  },
  {
   "cell_type": "code",
   "execution_count": null,
   "metadata": {
    "collapsed": true
   },
   "outputs": [],
   "source": [
    ""
   ]
  }
 ],
 "metadata": {
  "kernelspec": {
   "display_name": "Python 2",
   "language": "python",
   "name": "python2"
  },
  "language_info": {
   "codemirror_mode": {
    "name": "ipython",
    "version": 2.0
   },
   "file_extension": ".py",
   "mimetype": "text/x-python",
   "name": "python",
   "nbconvert_exporter": "python",
   "pygments_lexer": "ipython2",
   "version": "2.7.11"
  }
 },
 "nbformat": 4,
 "nbformat_minor": 0
}